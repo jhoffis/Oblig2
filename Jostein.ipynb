{
 "cells": [
  {
   "cell_type": "markdown",
   "metadata": {},
   "source": [
    "# Box Office Predictions"
   ]
  },
  {
   "cell_type": "markdown",
   "metadata": {},
   "source": [
    "All imports used in the project are collected here at the top"
   ]
  },
  {
   "cell_type": "code",
   "execution_count": 1,
   "metadata": {},
   "outputs": [],
   "source": [
    "import pandas as pd\n",
    "import matplotlib\n",
    "import matplotlib.pyplot as plt\n",
    "import math\n",
    "import numpy as np\n",
    "import sklearn\n",
    "import ast\n",
    "import xgboost as xgb\n",
    "import seaborn as sns\n",
    "from collections import Counter\n",
    "from sklearn.model_selection import train_test_split\n",
    "from scipy.stats import randint\n",
    "from pandas.plotting import scatter_matrix\n",
    "from sklearn.impute import SimpleImputer\n",
    "from sklearn.pipeline import Pipeline\n",
    "from sklearn.preprocessing import StandardScaler\n",
    "from sklearn.model_selection import train_test_split\n",
    "from sklearn.pipeline import Pipeline\n",
    "from sklearn.pipeline import FeatureUnion\n",
    "from sklearn.model_selection import GridSearchCV\n",
    "from sklearn.model_selection import cross_val_score\n",
    "from sklearn.ensemble import RandomForestRegressor\n",
    "from sklearn.tree import DecisionTreeRegressor\n",
    "from sklearn.linear_model import LinearRegression\n",
    "from sklearn.metrics import mean_squared_error\n",
    "from sklearn.base import BaseEstimator, TransformerMixin\n",
    "from sklearn.model_selection import RandomizedSearchCV\n",
    "from sklearn.ensemble import RandomForestRegressor\n",
    "from sklearn.metrics import mean_squared_log_error\n",
    "from sklearn.metrics import mean_squared_error"
   ]
  },
  {
   "cell_type": "markdown",
   "metadata": {},
   "source": [
    "## Framing the problem and looking at the big picture"
   ]
  },
  {
   "cell_type": "markdown",
   "metadata": {},
   "source": [
    "The objective of our machine learning algorithm is to accurately predict a movie's revenue based on data from an online movie database. These predictions might give useful insights into what makes a movie successful for future reference. \n",
    "\n",
    "The data we get to play with already have the revenue made for each movie. This means that we have supervised learning. It's also a regression task, since we're trying to predict a number, how much the movie made. "
   ]
  },
  {
   "cell_type": "markdown",
   "metadata": {},
   "source": [
    "## Getting the data"
   ]
  },
  {
   "cell_type": "markdown",
   "metadata": {},
   "source": [
    "The data is from the competition page on kaggle. "
   ]
  },
  {
   "cell_type": "code",
   "execution_count": 2,
   "metadata": {},
   "outputs": [],
   "source": [
    "train = pd.read_csv(\"data/train.csv\")\n",
    "test = pd.read_csv(\"data/test.csv\")"
   ]
  },
  {
   "cell_type": "markdown",
   "metadata": {},
   "source": [
    "## Exploring the data and getting insights"
   ]
  },
  {
   "cell_type": "code",
   "execution_count": 3,
   "metadata": {},
   "outputs": [
    {
     "data": {
      "text/html": [
       "<div>\n",
       "<style scoped>\n",
       "    .dataframe tbody tr th:only-of-type {\n",
       "        vertical-align: middle;\n",
       "    }\n",
       "\n",
       "    .dataframe tbody tr th {\n",
       "        vertical-align: top;\n",
       "    }\n",
       "\n",
       "    .dataframe thead th {\n",
       "        text-align: right;\n",
       "    }\n",
       "</style>\n",
       "<table border=\"1\" class=\"dataframe\">\n",
       "  <thead>\n",
       "    <tr style=\"text-align: right;\">\n",
       "      <th></th>\n",
       "      <th>id</th>\n",
       "      <th>belongs_to_collection</th>\n",
       "      <th>budget</th>\n",
       "      <th>genres</th>\n",
       "      <th>homepage</th>\n",
       "      <th>imdb_id</th>\n",
       "      <th>original_language</th>\n",
       "      <th>original_title</th>\n",
       "      <th>overview</th>\n",
       "      <th>popularity</th>\n",
       "      <th>...</th>\n",
       "      <th>release_date</th>\n",
       "      <th>runtime</th>\n",
       "      <th>spoken_languages</th>\n",
       "      <th>status</th>\n",
       "      <th>tagline</th>\n",
       "      <th>title</th>\n",
       "      <th>Keywords</th>\n",
       "      <th>cast</th>\n",
       "      <th>crew</th>\n",
       "      <th>revenue</th>\n",
       "    </tr>\n",
       "  </thead>\n",
       "  <tbody>\n",
       "    <tr>\n",
       "      <th>0</th>\n",
       "      <td>1</td>\n",
       "      <td>[{'id': 313576, 'name': 'Hot Tub Time Machine ...</td>\n",
       "      <td>14000000</td>\n",
       "      <td>[{'id': 35, 'name': 'Comedy'}]</td>\n",
       "      <td>NaN</td>\n",
       "      <td>tt2637294</td>\n",
       "      <td>en</td>\n",
       "      <td>Hot Tub Time Machine 2</td>\n",
       "      <td>When Lou, who has become the \"father of the In...</td>\n",
       "      <td>6.575393</td>\n",
       "      <td>...</td>\n",
       "      <td>2/20/15</td>\n",
       "      <td>93.0</td>\n",
       "      <td>[{'iso_639_1': 'en', 'name': 'English'}]</td>\n",
       "      <td>Released</td>\n",
       "      <td>The Laws of Space and Time are About to be Vio...</td>\n",
       "      <td>Hot Tub Time Machine 2</td>\n",
       "      <td>[{'id': 4379, 'name': 'time travel'}, {'id': 9...</td>\n",
       "      <td>[{'cast_id': 4, 'character': 'Lou', 'credit_id...</td>\n",
       "      <td>[{'credit_id': '59ac067c92514107af02c8c8', 'de...</td>\n",
       "      <td>12314651</td>\n",
       "    </tr>\n",
       "    <tr>\n",
       "      <th>1</th>\n",
       "      <td>2</td>\n",
       "      <td>[{'id': 107674, 'name': 'The Princess Diaries ...</td>\n",
       "      <td>40000000</td>\n",
       "      <td>[{'id': 35, 'name': 'Comedy'}, {'id': 18, 'nam...</td>\n",
       "      <td>NaN</td>\n",
       "      <td>tt0368933</td>\n",
       "      <td>en</td>\n",
       "      <td>The Princess Diaries 2: Royal Engagement</td>\n",
       "      <td>Mia Thermopolis is now a college graduate and ...</td>\n",
       "      <td>8.248895</td>\n",
       "      <td>...</td>\n",
       "      <td>8/6/04</td>\n",
       "      <td>113.0</td>\n",
       "      <td>[{'iso_639_1': 'en', 'name': 'English'}]</td>\n",
       "      <td>Released</td>\n",
       "      <td>It can take a lifetime to find true love; she'...</td>\n",
       "      <td>The Princess Diaries 2: Royal Engagement</td>\n",
       "      <td>[{'id': 2505, 'name': 'coronation'}, {'id': 42...</td>\n",
       "      <td>[{'cast_id': 1, 'character': 'Mia Thermopolis'...</td>\n",
       "      <td>[{'credit_id': '52fe43fe9251416c7502563d', 'de...</td>\n",
       "      <td>95149435</td>\n",
       "    </tr>\n",
       "    <tr>\n",
       "      <th>2</th>\n",
       "      <td>3</td>\n",
       "      <td>NaN</td>\n",
       "      <td>3300000</td>\n",
       "      <td>[{'id': 18, 'name': 'Drama'}]</td>\n",
       "      <td>http://sonyclassics.com/whiplash/</td>\n",
       "      <td>tt2582802</td>\n",
       "      <td>en</td>\n",
       "      <td>Whiplash</td>\n",
       "      <td>Under the direction of a ruthless instructor, ...</td>\n",
       "      <td>64.299990</td>\n",
       "      <td>...</td>\n",
       "      <td>10/10/14</td>\n",
       "      <td>105.0</td>\n",
       "      <td>[{'iso_639_1': 'en', 'name': 'English'}]</td>\n",
       "      <td>Released</td>\n",
       "      <td>The road to greatness can take you to the edge.</td>\n",
       "      <td>Whiplash</td>\n",
       "      <td>[{'id': 1416, 'name': 'jazz'}, {'id': 1523, 'n...</td>\n",
       "      <td>[{'cast_id': 5, 'character': 'Andrew Neimann',...</td>\n",
       "      <td>[{'credit_id': '54d5356ec3a3683ba0000039', 'de...</td>\n",
       "      <td>13092000</td>\n",
       "    </tr>\n",
       "    <tr>\n",
       "      <th>3</th>\n",
       "      <td>4</td>\n",
       "      <td>NaN</td>\n",
       "      <td>1200000</td>\n",
       "      <td>[{'id': 53, 'name': 'Thriller'}, {'id': 18, 'n...</td>\n",
       "      <td>http://kahaanithefilm.com/</td>\n",
       "      <td>tt1821480</td>\n",
       "      <td>hi</td>\n",
       "      <td>Kahaani</td>\n",
       "      <td>Vidya Bagchi (Vidya Balan) arrives in Kolkata ...</td>\n",
       "      <td>3.174936</td>\n",
       "      <td>...</td>\n",
       "      <td>3/9/12</td>\n",
       "      <td>122.0</td>\n",
       "      <td>[{'iso_639_1': 'en', 'name': 'English'}, {'iso...</td>\n",
       "      <td>Released</td>\n",
       "      <td>NaN</td>\n",
       "      <td>Kahaani</td>\n",
       "      <td>[{'id': 10092, 'name': 'mystery'}, {'id': 1054...</td>\n",
       "      <td>[{'cast_id': 1, 'character': 'Vidya Bagchi', '...</td>\n",
       "      <td>[{'credit_id': '52fe48779251416c9108d6eb', 'de...</td>\n",
       "      <td>16000000</td>\n",
       "    </tr>\n",
       "    <tr>\n",
       "      <th>4</th>\n",
       "      <td>5</td>\n",
       "      <td>NaN</td>\n",
       "      <td>0</td>\n",
       "      <td>[{'id': 28, 'name': 'Action'}, {'id': 53, 'nam...</td>\n",
       "      <td>NaN</td>\n",
       "      <td>tt1380152</td>\n",
       "      <td>ko</td>\n",
       "      <td>마린보이</td>\n",
       "      <td>Marine Boy is the story of a former national s...</td>\n",
       "      <td>1.148070</td>\n",
       "      <td>...</td>\n",
       "      <td>2/5/09</td>\n",
       "      <td>118.0</td>\n",
       "      <td>[{'iso_639_1': 'ko', 'name': '한국어/조선말'}]</td>\n",
       "      <td>Released</td>\n",
       "      <td>NaN</td>\n",
       "      <td>Marine Boy</td>\n",
       "      <td>NaN</td>\n",
       "      <td>[{'cast_id': 3, 'character': 'Chun-soo', 'cred...</td>\n",
       "      <td>[{'credit_id': '52fe464b9251416c75073b43', 'de...</td>\n",
       "      <td>3923970</td>\n",
       "    </tr>\n",
       "  </tbody>\n",
       "</table>\n",
       "<p>5 rows × 23 columns</p>\n",
       "</div>"
      ],
      "text/plain": [
       "   id                              belongs_to_collection    budget  \\\n",
       "0   1  [{'id': 313576, 'name': 'Hot Tub Time Machine ...  14000000   \n",
       "1   2  [{'id': 107674, 'name': 'The Princess Diaries ...  40000000   \n",
       "2   3                                                NaN   3300000   \n",
       "3   4                                                NaN   1200000   \n",
       "4   5                                                NaN         0   \n",
       "\n",
       "                                              genres  \\\n",
       "0                     [{'id': 35, 'name': 'Comedy'}]   \n",
       "1  [{'id': 35, 'name': 'Comedy'}, {'id': 18, 'nam...   \n",
       "2                      [{'id': 18, 'name': 'Drama'}]   \n",
       "3  [{'id': 53, 'name': 'Thriller'}, {'id': 18, 'n...   \n",
       "4  [{'id': 28, 'name': 'Action'}, {'id': 53, 'nam...   \n",
       "\n",
       "                            homepage    imdb_id original_language  \\\n",
       "0                                NaN  tt2637294                en   \n",
       "1                                NaN  tt0368933                en   \n",
       "2  http://sonyclassics.com/whiplash/  tt2582802                en   \n",
       "3         http://kahaanithefilm.com/  tt1821480                hi   \n",
       "4                                NaN  tt1380152                ko   \n",
       "\n",
       "                             original_title  \\\n",
       "0                    Hot Tub Time Machine 2   \n",
       "1  The Princess Diaries 2: Royal Engagement   \n",
       "2                                  Whiplash   \n",
       "3                                   Kahaani   \n",
       "4                                      마린보이   \n",
       "\n",
       "                                            overview  popularity  ...  \\\n",
       "0  When Lou, who has become the \"father of the In...    6.575393  ...   \n",
       "1  Mia Thermopolis is now a college graduate and ...    8.248895  ...   \n",
       "2  Under the direction of a ruthless instructor, ...   64.299990  ...   \n",
       "3  Vidya Bagchi (Vidya Balan) arrives in Kolkata ...    3.174936  ...   \n",
       "4  Marine Boy is the story of a former national s...    1.148070  ...   \n",
       "\n",
       "  release_date runtime                                   spoken_languages  \\\n",
       "0      2/20/15    93.0           [{'iso_639_1': 'en', 'name': 'English'}]   \n",
       "1       8/6/04   113.0           [{'iso_639_1': 'en', 'name': 'English'}]   \n",
       "2     10/10/14   105.0           [{'iso_639_1': 'en', 'name': 'English'}]   \n",
       "3       3/9/12   122.0  [{'iso_639_1': 'en', 'name': 'English'}, {'iso...   \n",
       "4       2/5/09   118.0           [{'iso_639_1': 'ko', 'name': '한국어/조선말'}]   \n",
       "\n",
       "     status                                            tagline  \\\n",
       "0  Released  The Laws of Space and Time are About to be Vio...   \n",
       "1  Released  It can take a lifetime to find true love; she'...   \n",
       "2  Released    The road to greatness can take you to the edge.   \n",
       "3  Released                                                NaN   \n",
       "4  Released                                                NaN   \n",
       "\n",
       "                                      title  \\\n",
       "0                    Hot Tub Time Machine 2   \n",
       "1  The Princess Diaries 2: Royal Engagement   \n",
       "2                                  Whiplash   \n",
       "3                                   Kahaani   \n",
       "4                                Marine Boy   \n",
       "\n",
       "                                            Keywords  \\\n",
       "0  [{'id': 4379, 'name': 'time travel'}, {'id': 9...   \n",
       "1  [{'id': 2505, 'name': 'coronation'}, {'id': 42...   \n",
       "2  [{'id': 1416, 'name': 'jazz'}, {'id': 1523, 'n...   \n",
       "3  [{'id': 10092, 'name': 'mystery'}, {'id': 1054...   \n",
       "4                                                NaN   \n",
       "\n",
       "                                                cast  \\\n",
       "0  [{'cast_id': 4, 'character': 'Lou', 'credit_id...   \n",
       "1  [{'cast_id': 1, 'character': 'Mia Thermopolis'...   \n",
       "2  [{'cast_id': 5, 'character': 'Andrew Neimann',...   \n",
       "3  [{'cast_id': 1, 'character': 'Vidya Bagchi', '...   \n",
       "4  [{'cast_id': 3, 'character': 'Chun-soo', 'cred...   \n",
       "\n",
       "                                                crew   revenue  \n",
       "0  [{'credit_id': '59ac067c92514107af02c8c8', 'de...  12314651  \n",
       "1  [{'credit_id': '52fe43fe9251416c7502563d', 'de...  95149435  \n",
       "2  [{'credit_id': '54d5356ec3a3683ba0000039', 'de...  13092000  \n",
       "3  [{'credit_id': '52fe48779251416c9108d6eb', 'de...  16000000  \n",
       "4  [{'credit_id': '52fe464b9251416c75073b43', 'de...   3923970  \n",
       "\n",
       "[5 rows x 23 columns]"
      ]
     },
     "execution_count": 3,
     "metadata": {},
     "output_type": "execute_result"
    }
   ],
   "source": [
    "train.head()"
   ]
  },
  {
   "cell_type": "markdown",
   "metadata": {},
   "source": [
    "A section of the data set. There are 23 columns and many different data types like strings, dictionaries and some numeric types like ints and floats. We need to find ways to get relevant training data from these objects. \n",
    "\n",
    "Just from these first five rows we see there are lots of data missing. Let's take a better look at that. "
   ]
  },
  {
   "cell_type": "code",
   "execution_count": 4,
   "metadata": {},
   "outputs": [
    {
     "name": "stdout",
     "output_type": "stream",
     "text": [
      "<class 'pandas.core.frame.DataFrame'>\n",
      "RangeIndex: 3000 entries, 0 to 2999\n",
      "Data columns (total 23 columns):\n",
      "id                       3000 non-null int64\n",
      "belongs_to_collection    604 non-null object\n",
      "budget                   3000 non-null int64\n",
      "genres                   2993 non-null object\n",
      "homepage                 946 non-null object\n",
      "imdb_id                  3000 non-null object\n",
      "original_language        3000 non-null object\n",
      "original_title           3000 non-null object\n",
      "overview                 2992 non-null object\n",
      "popularity               3000 non-null float64\n",
      "poster_path              2999 non-null object\n",
      "production_companies     2844 non-null object\n",
      "production_countries     2945 non-null object\n",
      "release_date             3000 non-null object\n",
      "runtime                  2998 non-null float64\n",
      "spoken_languages         2980 non-null object\n",
      "status                   3000 non-null object\n",
      "tagline                  2403 non-null object\n",
      "title                    3000 non-null object\n",
      "Keywords                 2724 non-null object\n",
      "cast                     2987 non-null object\n",
      "crew                     2984 non-null object\n",
      "revenue                  3000 non-null int64\n",
      "dtypes: float64(2), int64(3), object(18)\n",
      "memory usage: 539.1+ KB\n"
     ]
    }
   ],
   "source": [
    "train.info()"
   ]
  },
  {
   "cell_type": "markdown",
   "metadata": {},
   "source": [
    "In the train set there are 3000 entries. Many of the 23 columns are missing data. Columns ``belongs_to_collection`` and ``homepage`` are especially sparse with data.\n",
    "\n",
    "While most of the columns are objects (strings, lists, dictionaries), there are a few numerical ones: ``id``, ``budget``, ``popularity``, ``runtime`` and of course ``revenue``. One can imagine that there is already some amount of correlation between these columns. Budget and popularity especially stands out as obvious choices for correlation. Let's check. "
   ]
  },
  {
   "cell_type": "code",
   "execution_count": 5,
   "metadata": {},
   "outputs": [
    {
     "data": {
      "text/plain": [
       "array([[<matplotlib.axes._subplots.AxesSubplot object at 0x000001D4D0300668>,\n",
       "        <matplotlib.axes._subplots.AxesSubplot object at 0x000001D4D0A13BA8>,\n",
       "        <matplotlib.axes._subplots.AxesSubplot object at 0x000001D4D0A51160>,\n",
       "        <matplotlib.axes._subplots.AxesSubplot object at 0x000001D4D0A7F710>],\n",
       "       [<matplotlib.axes._subplots.AxesSubplot object at 0x000001D4D0AB1CC0>,\n",
       "        <matplotlib.axes._subplots.AxesSubplot object at 0x000001D4D0AF02B0>,\n",
       "        <matplotlib.axes._subplots.AxesSubplot object at 0x000001D4D0B1F860>,\n",
       "        <matplotlib.axes._subplots.AxesSubplot object at 0x000001D4D0B50E48>],\n",
       "       [<matplotlib.axes._subplots.AxesSubplot object at 0x000001D4D0B50E80>,\n",
       "        <matplotlib.axes._subplots.AxesSubplot object at 0x000001D4D0BBF9B0>,\n",
       "        <matplotlib.axes._subplots.AxesSubplot object at 0x000001D4D0BF0F28>,\n",
       "        <matplotlib.axes._subplots.AxesSubplot object at 0x000001D4D0C2E518>],\n",
       "       [<matplotlib.axes._subplots.AxesSubplot object at 0x000001D4D0C5EAC8>,\n",
       "        <matplotlib.axes._subplots.AxesSubplot object at 0x000001D4D0C9C0B8>,\n",
       "        <matplotlib.axes._subplots.AxesSubplot object at 0x000001D4D0CCB668>,\n",
       "        <matplotlib.axes._subplots.AxesSubplot object at 0x000001D4D0CFEC18>]],\n",
       "      dtype=object)"
      ]
     },
     "execution_count": 5,
     "metadata": {},
     "output_type": "execute_result"
    },
    {
     "data": {
      "image/png": "[encoded data removed]",
      "text/plain": [
       "<Figure size 864x576 with 16 Axes>"
      ]
     },
     "metadata": {
      "needs_background": "light"
     },
     "output_type": "display_data"
    }
   ],
   "source": [
    "attributes = [\"budget\", \"popularity\", \"runtime\", \"revenue\"]\n",
    "scatter_matrix(train[attributes], figsize=(12,8))"
   ]
  },
  {
   "cell_type": "markdown",
   "metadata": {},
   "source": [
    "We plot the attributes in a scatter matrix. The only obvious correlation to be seen here is indeed ``revenue`` and ``budget``. \n",
    "\n",
    "However, ``revenue`` and ``popularity`` does not seem to correlated, which is surprising. Let's have a closer look at that relation:"
   ]
  },
  {
   "cell_type": "code",
   "execution_count": 6,
   "metadata": {
    "scrolled": true
   },
   "outputs": [
    {
     "data": {
      "text/plain": [
       "(0, 180000000)"
      ]
     },
     "execution_count": 6,
     "metadata": {},
     "output_type": "execute_result"
    },
    {
     "data": {
      "image/png": "[encoded data removed]",
      "text/plain": [
       "<Figure size 432x288 with 1 Axes>"
      ]
     },
     "metadata": {
      "needs_background": "light"
     },
     "output_type": "display_data"
    }
   ],
   "source": [
    "train.plot(kind=\"scatter\", x=\"popularity\", y=\"revenue\", alpha=0.15)\n",
    "plt.xlim(0,50)\n",
    "plt.ylim(0,180000000)\n"
   ]
  },
  {
   "cell_type": "markdown",
   "metadata": {},
   "source": [
    "This looks like a mess. One can see that movies with a popularity with less than \"10\" (whatever that number means) tend to not make too much money. There are exceptions to this though. "
   ]
  },
  {
   "cell_type": "code",
   "execution_count": 7,
   "metadata": {},
   "outputs": [
    {
     "data": {
      "image/png": "[encoded data removed]",
      "text/plain": [
       "<Figure size 432x288 with 1 Axes>"
      ]
     },
     "metadata": {
      "needs_background": "light"
     },
     "output_type": "display_data"
    }
   ],
   "source": [
    "train.plot(kind=\"scatter\", x=\"popularity\", y=\"revenue\", alpha=0.1)\n",
    "plt.xlim(0,100)\n",
    "plt.yscale(\"log\")"
   ]
  },
  {
   "cell_type": "markdown",
   "metadata": {},
   "source": [
    "Plotting it logarithmically looks a bit less messy, but it's hard to get useful info from this one too. The movies that are the most popular tend to have the highest revenue, with few exceptions.\n",
    "\n",
    "It seems hard to get information from this attribute.\n",
    "\n",
    "Let's also have a quick look at the ``budget`` and ``revenue`` correlation:"
   ]
  },
  {
   "cell_type": "code",
   "execution_count": 8,
   "metadata": {},
   "outputs": [
    {
     "data": {
      "text/plain": [
       "<matplotlib.axes._subplots.AxesSubplot at 0x1d4d1054be0>"
      ]
     },
     "execution_count": 8,
     "metadata": {},
     "output_type": "execute_result"
    },
    {
     "data": {
      "image/png": "[encoded data removed]",
      "text/plain": [
       "<Figure size 432x288 with 1 Axes>"
      ]
     },
     "metadata": {
      "needs_background": "light"
     },
     "output_type": "display_data"
    }
   ],
   "source": [
    "train.plot(kind=\"scatter\", x=\"budget\", y=\"revenue\", alpha=0.2)"
   ]
  },
  {
   "cell_type": "markdown",
   "metadata": {},
   "source": [
    "We can see that the budget value is often a round number. Patterns/lines are forming at the different million-marks. \n",
    "\n",
    "There is also a lot more correlation compared to popularity. "
   ]
  },
  {
   "cell_type": "markdown",
   "metadata": {},
   "source": [
    "But we also have to look at the columns that are not initially number types, and see if there are some other correlations with revenue. To do this, we have to prepare the data."
   ]
  },
  {
   "cell_type": "markdown",
   "metadata": {},
   "source": [
    "## Preparing the data"
   ]
  },
  {
   "cell_type": "code",
   "execution_count": 9,
   "metadata": {},
   "outputs": [],
   "source": [
    "train_copy = train.copy()\n",
    "test_copy = test.copy()"
   ]
  },
  {
   "cell_type": "markdown",
   "metadata": {},
   "source": [
    "We make some copies and use them instead because we are a bit paranoid."
   ]
  },
  {
   "cell_type": "markdown",
   "metadata": {},
   "source": [
    "### belongs_to_collection and homepage"
   ]
  },
  {
   "cell_type": "code",
   "execution_count": 10,
   "metadata": {},
   "outputs": [],
   "source": [
    "def collectionBooleanifier(collection):\n",
    "\n",
    "    new_collection = []\n",
    "\n",
    "    new_val = 0\n",
    "    for x in collection:\n",
    "        if x != x:\n",
    "            new_val = 0\n",
    "        else:\n",
    "            new_val = 1\n",
    "        new_collection.append(new_val) \n",
    "        \n",
    "    return new_collection"
   ]
  },
  {
   "cell_type": "code",
   "execution_count": 11,
   "metadata": {},
   "outputs": [],
   "source": [
    "train_copy['has_collection'] = collectionBooleanifier(train_copy['belongs_to_collection'])\n",
    "train_copy['has_homepage'] = collectionBooleanifier(train_copy['homepage'])\n",
    "test_copy['has_collection'] = collectionBooleanifier(test_copy['belongs_to_collection'])\n",
    "test_copy['has_homepage'] = collectionBooleanifier(test_copy['homepage'])\n",
    "\n",
    "train_copy = train_copy.drop(['belongs_to_collection'], axis=1)\n",
    "train_copy = train_copy.drop(['homepage'], axis=1)\n",
    "test_copy = test_copy.drop(['belongs_to_collection'], axis=1)\n",
    "test_copy = test_copy.drop(['homepage'], axis=1)"
   ]
  },
  {
   "cell_type": "markdown",
   "metadata": {},
   "source": [
    "The first data we replace is the collection objects. We decided to just check if a movie was a part of a collection or not. We thought we could make a new column for each unique collection and check if the movie was part of any (kinda like one hot encoding), but we were unsure if that would give more results and it seemed like a lot of work and extra columns for little gain. \n",
    "\n",
    "The function ``collectionBooleanifier`` could be used for both collection and homepage. \n",
    "\n",
    "Let's take a quick look at these new attributes:"
   ]
  },
  {
   "cell_type": "code",
   "execution_count": 12,
   "metadata": {},
   "outputs": [
    {
     "data": {
      "text/plain": [
       "<seaborn.axisgrid.FacetGrid at 0x1d4d103b828>"
      ]
     },
     "execution_count": 12,
     "metadata": {},
     "output_type": "execute_result"
    },
    {
     "data": {
      "image/png": "[encoded data removed]",
      "text/plain": [
       "<Figure size 360x360 with 1 Axes>"
      ]
     },
     "metadata": {
      "needs_background": "light"
     },
     "output_type": "display_data"
    }
   ],
   "source": [
    "sns.catplot(x=\"has_collection\", y=\"revenue\", alpha=0.3, data=train_copy)"
   ]
  },
  {
   "cell_type": "markdown",
   "metadata": {},
   "source": [
    "It looks like movies that are part of a collection have higher revenues. "
   ]
  },
  {
   "cell_type": "code",
   "execution_count": 13,
   "metadata": {},
   "outputs": [
    {
     "data": {
      "text/plain": [
       "<seaborn.axisgrid.FacetGrid at 0x1d4d24b0dd8>"
      ]
     },
     "execution_count": 13,
     "metadata": {},
     "output_type": "execute_result"
    },
    {
     "data": {
      "image/png": "[encoded data removed]",
      "text/plain": [
       "<Figure size 360x360 with 1 Axes>"
      ]
     },
     "metadata": {
      "needs_background": "light"
     },
     "output_type": "display_data"
    }
   ],
   "source": [
    "sns.catplot(x=\"has_homepage\", y=\"revenue\", alpha=0.3, data=train_copy)"
   ]
  },
  {
   "cell_type": "markdown",
   "metadata": {},
   "source": [
    "Interestingly, the same can be said about hompage. Maybe this is because bigger movies tend to have homepages, but smaller movies don't?  "
   ]
  },
  {
   "cell_type": "markdown",
   "metadata": {},
   "source": [
    "### Spoken language"
   ]
  },
  {
   "cell_type": "markdown",
   "metadata": {},
   "source": [
    "Now let's look at the ``spoken_languages`` column"
   ]
  },
  {
   "cell_type": "code",
   "execution_count": 14,
   "metadata": {},
   "outputs": [],
   "source": [
    "langs = train_copy['spoken_languages'].apply(lambda x: {} if pd.isna(x) else ast.literal_eval(x))"
   ]
  },
  {
   "cell_type": "markdown",
   "metadata": {},
   "source": [
    "Here we make a temporary list for practical purposes. This lambda expression goes through the list and converts the string representation of list of dictionaries into *actual* list of dictionaries."
   ]
  },
  {
   "cell_type": "code",
   "execution_count": 15,
   "metadata": {
    "scrolled": true
   },
   "outputs": [
    {
     "name": "stdout",
     "output_type": "stream",
     "text": [
      "Number of spoken languages in films\n"
     ]
    },
    {
     "data": {
      "text/plain": [
       "1    2105\n",
       "2     549\n",
       "3     216\n",
       "4      72\n",
       "5      23\n",
       "0      20\n",
       "7       6\n",
       "6       6\n",
       "8       2\n",
       "9       1\n",
       "Name: spoken_languages, dtype: int64"
      ]
     },
     "execution_count": 15,
     "metadata": {},
     "output_type": "execute_result"
    }
   ],
   "source": [
    "print('Number of spoken languages in films')\n",
    "\n",
    "langs.apply(lambda x: len(x) if x != {} else 0).value_counts()"
   ]
  },
  {
   "cell_type": "code",
   "execution_count": 16,
   "metadata": {
    "scrolled": false
   },
   "outputs": [
    {
     "data": {
      "text/plain": [
       "[('English', 2618),\n",
       " ('Français', 288),\n",
       " ('Español', 239),\n",
       " ('Deutsch', 169),\n",
       " ('Pусский', 152),\n",
       " ('Italiano', 124),\n",
       " ('日本語', 89),\n",
       " ('普通话', 68),\n",
       " ('हिन्दी', 56),\n",
       " ('', 47),\n",
       " ('Português', 43),\n",
       " ('العربية', 40),\n",
       " ('한국어/조선말', 37),\n",
       " ('广州话 / 廣州話', 36),\n",
       " ('தமிழ்', 27)]"
      ]
     },
     "execution_count": 16,
     "metadata": {},
     "output_type": "execute_result"
    }
   ],
   "source": [
    "list_of_languages = list(langs.apply(lambda x: [i['name'] for i in x] if x != {} else []).values)\n",
    "Counter([i for j in list_of_languages for i in j]).most_common(15)"
   ]
  },
  {
   "cell_type": "markdown",
   "metadata": {},
   "source": [
    "Looking at these data we can clearly see that there are many more movies in english than non-english. English is 10 times as popular as the second biggest language, french. \n",
    "\n",
    "Therefore, we decided to just have one variable ``has_english`` to replace spoken languages. This variable is ``1`` if the movie is in english (or has english spoken in it at all), and ``0`` otherwise."
   ]
  },
  {
   "cell_type": "code",
   "execution_count": 17,
   "metadata": {
    "scrolled": false
   },
   "outputs": [],
   "source": [
    "def language_encoder(column, length):\n",
    "\n",
    "    new_lang = [0] * length\n",
    "    \n",
    "    i = 0\n",
    "    for x in column:\n",
    "        if x == x:\n",
    "            ds = ast.literal_eval(x)\n",
    "            if any(d['iso_639_1'] == 'en' for d in ds): \n",
    "                new_lang[i] = 1\n",
    "        else:\n",
    "            new_lang[i] = 1 #if the movie doesn't specify spoken language we assume it's english, just by probability. \n",
    "        i+=1\n",
    "    \n",
    "    return new_lang"
   ]
  },
  {
   "cell_type": "code",
   "execution_count": 18,
   "metadata": {},
   "outputs": [],
   "source": [
    "train_copy['has_english'] = language_encoder(train_copy['spoken_languages'], 3000)\n",
    "test_copy['has_english'] = language_encoder(test_copy['spoken_languages'], 4398)\n",
    "\n",
    "train_copy = train_copy.drop(['spoken_languages'], axis=1)\n",
    "test_copy = test_copy.drop(['spoken_languages'], axis=1)"
   ]
  },
  {
   "cell_type": "code",
   "execution_count": 19,
   "metadata": {
    "scrolled": true
   },
   "outputs": [
    {
     "data": {
      "text/plain": [
       "<matplotlib.axes._subplots.AxesSubplot at 0x1d4d49bce48>"
      ]
     },
     "execution_count": 19,
     "metadata": {},
     "output_type": "execute_result"
    },
    {
     "data": {
      "image/png": "[encoded data removed]",
      "text/plain": [
       "<Figure size 432x288 with 1 Axes>"
      ]
     },
     "metadata": {
      "needs_background": "light"
     },
     "output_type": "display_data"
    }
   ],
   "source": [
    "sns.violinplot(x=\"has_english\", y=\"revenue\", data=train_copy)"
   ]
  },
  {
   "cell_type": "markdown",
   "metadata": {},
   "source": [
    "We see that the non-english movies tend to have lower revenue, while english movies vary a bit more. This makes sense, one could imagine that there is a bigger marked for movies in english."
   ]
  },
  {
   "cell_type": "markdown",
   "metadata": {},
   "source": [
    "### Cast and Crew"
   ]
  },
  {
   "cell_type": "markdown",
   "metadata": {},
   "source": [
    "Next up is the cast and crew columns. First: let's open up these objects and check out what hides inside them!"
   ]
  },
  {
   "cell_type": "code",
   "execution_count": 26,
   "metadata": {
    "scrolled": true
   },
   "outputs": [
    {
     "data": {
      "text/plain": [
       "[{'cast_id': 4,\n",
       "  'character': 'Lou',\n",
       "  'credit_id': '52fe4ee7c3a36847f82afae7',\n",
       "  'gender': 2,\n",
       "  'id': 52997,\n",
       "  'name': 'Rob Corddry',\n",
       "  'order': 0,\n",
       "  'profile_path': '/k2zJL0V1nEZuFT08xUdOd3ucfXz.jpg'},\n",
       " {'cast_id': 5,\n",
       "  'character': 'Nick',\n",
       "  'credit_id': '52fe4ee7c3a36847f82afaeb',\n",
       "  'gender': 2,\n",
       "  'id': 64342,\n",
       "  'name': 'Craig Robinson',\n",
       "  'order': 1,\n",
       "  'profile_path': '/tVaRMkJXOEVhYxtnnFuhqW0Rjzz.jpg'},\n",
       " {'cast_id': 6,\n",
       "  'character': 'Jacob',\n",
       "  'credit_id': '52fe4ee7c3a36847f82afaef',\n",
       "  'gender': 2,\n",
       "  'id': 54729,\n",
       "  'name': 'Clark Duke',\n",
       "  'order': 2,\n",
       "  'profile_path': '/oNzK0umwm5Wn0wyEbOy6TVJCSBn.jpg'},\n",
       " {'cast_id': 7,\n",
       "  'character': 'Adam Jr.',\n",
       "  'credit_id': '52fe4ee7c3a36847f82afaf3',\n",
       "  'gender': 2,\n",
       "  'id': 36801,\n",
       "  'name': 'Adam Scott',\n",
       "  'order': 3,\n",
       "  'profile_path': '/5gb65xz8bzd42yjMAl4zwo4cvKw.jpg'},\n",
       " {'cast_id': 8,\n",
       "  'character': 'Hot Tub Repairman',\n",
       "  'credit_id': '52fe4ee7c3a36847f82afaf7',\n",
       "  'gender': 2,\n",
       "  'id': 54812,\n",
       "  'name': 'Chevy Chase',\n",
       "  'order': 4,\n",
       "  'profile_path': '/svjpyYtPwtjvRxX9IZnOmOkhDOt.jpg'},\n",
       " {'cast_id': 9,\n",
       "  'character': 'Jill',\n",
       "  'credit_id': '52fe4ee7c3a36847f82afafb',\n",
       "  'gender': 1,\n",
       "  'id': 94098,\n",
       "  'name': 'Gillian Jacobs',\n",
       "  'order': 5,\n",
       "  'profile_path': '/rBnhe5vhNPnhRUdtYahBWx90fJM.jpg'},\n",
       " {'cast_id': 10,\n",
       "  'character': 'Sophie',\n",
       "  'credit_id': '52fe4ee7c3a36847f82afaff',\n",
       "  'gender': 1,\n",
       "  'id': 1159009,\n",
       "  'name': 'Bianca Haase',\n",
       "  'order': 6,\n",
       "  'profile_path': '/4x3nbtD8q8phAJPmoGWXPvz0iM.jpg'},\n",
       " {'cast_id': 11,\n",
       "  'character': 'Kelly',\n",
       "  'credit_id': '5524ec51c3a3687df3000dbb',\n",
       "  'gender': 1,\n",
       "  'id': 86624,\n",
       "  'name': 'Collette Wolfe',\n",
       "  'order': 7,\n",
       "  'profile_path': '/aSD4h5379b2eEw3bLou9ByLimmq.jpg'},\n",
       " {'cast_id': 13,\n",
       "  'character': 'Brad',\n",
       "  'credit_id': '5524ec8ec3a3687ded000d72',\n",
       "  'gender': 2,\n",
       "  'id': 466505,\n",
       "  'name': 'Kumail Nanjiani',\n",
       "  'order': 9,\n",
       "  'profile_path': '/x4nAztHY72SVciRfxEsbhIVTsIu.jpg'},\n",
       " {'cast_id': 14,\n",
       "  'character': 'Courtney',\n",
       "  'credit_id': '5524ec9bc3a3687df8000d13',\n",
       "  'gender': 1,\n",
       "  'id': 70776,\n",
       "  'name': 'Kellee Stewart',\n",
       "  'order': 10,\n",
       "  'profile_path': '/w3xmsEPmJc1Cf0dQ4aIn8YmlHbk.jpg'},\n",
       " {'cast_id': 15,\n",
       "  'character': 'Terry',\n",
       "  'credit_id': '5524eca892514171cb008237',\n",
       "  'gender': 2,\n",
       "  'id': 347335,\n",
       "  'name': 'Josh Heald',\n",
       "  'order': 11,\n",
       "  'profile_path': '/pwXJIenrDMrG7t3zNfLvr8w1RGU.jpg'},\n",
       " {'cast_id': 16,\n",
       "  'character': 'Susan',\n",
       "  'credit_id': '5524ecb7925141720c001116',\n",
       "  'gender': 0,\n",
       "  'id': 1451392,\n",
       "  'name': 'Gretchen Koerner',\n",
       "  'order': 12,\n",
       "  'profile_path': '/muULPexCTJGyJba4yKzxronpD50.jpg'},\n",
       " {'cast_id': 17,\n",
       "  'character': 'Herself',\n",
       "  'credit_id': '5524ecc3c3a3687ded000d74',\n",
       "  'gender': 1,\n",
       "  'id': 98879,\n",
       "  'name': 'Lisa Loeb',\n",
       "  'order': 13,\n",
       "  'profile_path': '/bGqg58ca0bZR38z9HliUMmeNGE.jpg'},\n",
       " {'cast_id': 18,\n",
       "  'character': 'Herself',\n",
       "  'credit_id': '5524ecd3c3a3687e11000ed3',\n",
       "  'gender': 1,\n",
       "  'id': 1394648,\n",
       "  'name': 'Jessica Williams',\n",
       "  'order': 14,\n",
       "  'profile_path': '/A4syKjkcYB92wLEhH0c0hC3BCpz.jpg'},\n",
       " {'cast_id': 19,\n",
       "  'character': 'Himself',\n",
       "  'credit_id': '5524ece6925141718d001009',\n",
       "  'gender': 0,\n",
       "  'id': 1451393,\n",
       "  'name': 'Bruce Buffer',\n",
       "  'order': 15,\n",
       "  'profile_path': None},\n",
       " {'cast_id': 20,\n",
       "  'character': 'Shot Girl',\n",
       "  'credit_id': '5524ecf5c3a3687e08000dc2',\n",
       "  'gender': 0,\n",
       "  'id': 1451394,\n",
       "  'name': 'Mariana Paola Vicente',\n",
       "  'order': 16,\n",
       "  'profile_path': '/ckPllza8624UHWGHCbLShkLxCD1.jpg'},\n",
       " {'cast_id': 33,\n",
       "  'character': 'Choozy Doozy Host',\n",
       "  'credit_id': '555844da9251412afe0013a9',\n",
       "  'gender': 2,\n",
       "  'id': 2224,\n",
       "  'name': 'Christian Slater',\n",
       "  'order': 17,\n",
       "  'profile_path': '/3ElLWjnvchMS6Q4cIQOK8QNAoMG.jpg'},\n",
       " {'cast_id': 35,\n",
       "  'character': 'Gary Winkle',\n",
       "  'credit_id': '55872027c3a3683853005074',\n",
       "  'gender': 0,\n",
       "  'id': 185805,\n",
       "  'name': 'Jason Jones',\n",
       "  'order': 18,\n",
       "  'profile_path': '/aIoCw6vo8AGMdsQRAI5g2t0yJT3.jpg'},\n",
       " {'cast_id': 36,\n",
       "  'character': 'Bridesmaid',\n",
       "  'credit_id': '55efe971c3a368090c00cd1b',\n",
       "  'gender': 0,\n",
       "  'id': 1507448,\n",
       "  'name': 'Olivia Jordan',\n",
       "  'order': 19,\n",
       "  'profile_path': '/szMukAEiIDeasel0lvyaeyKuych.jpg'},\n",
       " {'cast_id': 37,\n",
       "  'character': 'Christine',\n",
       "  'credit_id': '55efe980c3a36871bf008176',\n",
       "  'gender': 1,\n",
       "  'id': 1334091,\n",
       "  'name': 'Christine Bently',\n",
       "  'order': 20,\n",
       "  'profile_path': '/oUZltnGa55OXE52hfyPTfCshuNy.jpg'},\n",
       " {'cast_id': 38,\n",
       "  'character': 'Excited Girl',\n",
       "  'credit_id': '55efe98e9251413e3201d316',\n",
       "  'gender': 0,\n",
       "  'id': 557803,\n",
       "  'name': 'Stacey Asaro',\n",
       "  'order': 21,\n",
       "  'profile_path': '/qTPdlr1dXf3kNdyHuDsgtGC0HCC.jpg'},\n",
       " {'cast_id': 64,\n",
       "  'character': 'Adam (uncredited)',\n",
       "  'credit_id': '58f2135ac3a3682e95008b91',\n",
       "  'gender': 2,\n",
       "  'id': 3036,\n",
       "  'name': 'John Cusack',\n",
       "  'order': 22,\n",
       "  'profile_path': '/uKydQYuZ9TnCzvbQLtj6j98vWAT.jpg'},\n",
       " {'cast_id': 65,\n",
       "  'character': 'J-Bird',\n",
       "  'credit_id': '59ac0240c3a3682cc802c399',\n",
       "  'gender': 2,\n",
       "  'id': 59256,\n",
       "  'name': 'Adam Herschman',\n",
       "  'order': 23,\n",
       "  'profile_path': '/wZMwiuX1DslF6hDS50z9OTN6z1X.jpg'},\n",
       " {'cast_id': 66,\n",
       "  'character': 'Bridesmaid',\n",
       "  'credit_id': '59ac02cd925141079d02b1b4',\n",
       "  'gender': 1,\n",
       "  'id': 129714,\n",
       "  'name': 'Kisha Sierra',\n",
       "  'order': 24,\n",
       "  'profile_path': None}]"
      ]
     },
     "execution_count": 26,
     "metadata": {},
     "output_type": "execute_result"
    }
   ],
   "source": [
    "ast.literal_eval(train_copy['cast'][0])"
   ]
  },
  {
   "cell_type": "code",
   "execution_count": 27,
   "metadata": {},
   "outputs": [
    {
     "data": {
      "text/plain": [
       "[{'credit_id': '59ac067c92514107af02c8c8',\n",
       "  'department': 'Directing',\n",
       "  'gender': 0,\n",
       "  'id': 1449071,\n",
       "  'job': 'First Assistant Director',\n",
       "  'name': 'Kelly Cantley',\n",
       "  'profile_path': None},\n",
       " {'credit_id': '52fe4ee7c3a36847f82afad7',\n",
       "  'department': 'Directing',\n",
       "  'gender': 2,\n",
       "  'id': 3227,\n",
       "  'job': 'Director',\n",
       "  'name': 'Steve Pink',\n",
       "  'profile_path': '/myHOgo8mQSCiCAZNGMRdHVr03jr.jpg'},\n",
       " {'credit_id': '5524ed25c3a3687ded000d88',\n",
       "  'department': 'Writing',\n",
       "  'gender': 2,\n",
       "  'id': 347335,\n",
       "  'job': 'Writer',\n",
       "  'name': 'Josh Heald',\n",
       "  'profile_path': '/pwXJIenrDMrG7t3zNfLvr8w1RGU.jpg'},\n",
       " {'credit_id': '5524ed2d925141720c001128',\n",
       "  'department': 'Writing',\n",
       "  'gender': 2,\n",
       "  'id': 347335,\n",
       "  'job': 'Characters',\n",
       "  'name': 'Josh Heald',\n",
       "  'profile_path': '/pwXJIenrDMrG7t3zNfLvr8w1RGU.jpg'},\n",
       " {'credit_id': '5524ed3d92514166c1004a5d',\n",
       "  'department': 'Production',\n",
       "  'gender': 2,\n",
       "  'id': 57822,\n",
       "  'job': 'Producer',\n",
       "  'name': 'Andrew Panay',\n",
       "  'profile_path': None},\n",
       " {'credit_id': '5524ed4bc3a3687df3000dd2',\n",
       "  'department': 'Production',\n",
       "  'gender': 0,\n",
       "  'id': 1451395,\n",
       "  'job': 'Associate Producer',\n",
       "  'name': 'Adam Blum',\n",
       "  'profile_path': None},\n",
       " {'credit_id': '5524ed5a925141720c00112c',\n",
       "  'department': 'Production',\n",
       "  'gender': 2,\n",
       "  'id': 52997,\n",
       "  'job': 'Executive Producer',\n",
       "  'name': 'Rob Corddry',\n",
       "  'profile_path': '/k2zJL0V1nEZuFT08xUdOd3ucfXz.jpg'},\n",
       " {'credit_id': '5524ed85c3a3687e0e000f56',\n",
       "  'department': 'Production',\n",
       "  'gender': 0,\n",
       "  'id': 62807,\n",
       "  'job': 'Executive Producer',\n",
       "  'name': 'Ben Ormand',\n",
       "  'profile_path': None},\n",
       " {'credit_id': '5524ed9fc3a3687e0e000f59',\n",
       "  'department': 'Sound',\n",
       "  'gender': 2,\n",
       "  'id': 23486,\n",
       "  'job': 'Original Music Composer',\n",
       "  'name': 'Christophe Beck',\n",
       "  'profile_path': '/2fnJUmCk6IEpVIptpYaUk31epHx.jpg'},\n",
       " {'credit_id': '5524eda6c3a3687e03000d28',\n",
       "  'department': 'Camera',\n",
       "  'gender': 2,\n",
       "  'id': 6117,\n",
       "  'job': 'Director of Photography',\n",
       "  'name': 'Declan Quinn',\n",
       "  'profile_path': None},\n",
       " {'credit_id': '5524edb4925141720c00113d',\n",
       "  'department': 'Editing',\n",
       "  'gender': 0,\n",
       "  'id': 1451396,\n",
       "  'job': 'Editor',\n",
       "  'name': 'Jamie Gross',\n",
       "  'profile_path': None},\n",
       " {'credit_id': '5524edc1925141727600102e',\n",
       "  'department': 'Production',\n",
       "  'gender': 0,\n",
       "  'id': 22219,\n",
       "  'job': 'Casting',\n",
       "  'name': 'Susie Farris',\n",
       "  'profile_path': None},\n",
       " {'credit_id': '5524edd192514171cb008257',\n",
       "  'department': 'Art',\n",
       "  'gender': 0,\n",
       "  'id': 1002643,\n",
       "  'job': 'Production Design',\n",
       "  'name': 'Ryan Berg',\n",
       "  'profile_path': None},\n",
       " {'credit_id': '555ad9be9251411e5b00d485',\n",
       "  'department': 'Production',\n",
       "  'gender': 2,\n",
       "  'id': 57431,\n",
       "  'job': 'Executive Producer',\n",
       "  'name': 'Matt Moore',\n",
       "  'profile_path': None},\n",
       " {'credit_id': '5677e93bc3a36816890087dc',\n",
       "  'department': 'Directing',\n",
       "  'gender': 0,\n",
       "  'id': 1551818,\n",
       "  'job': 'Script Supervisor',\n",
       "  'name': 'Nicole Garcea',\n",
       "  'profile_path': None},\n",
       " {'credit_id': '5677e96a92514179e10093d0',\n",
       "  'department': 'Production',\n",
       "  'gender': 0,\n",
       "  'id': 1551819,\n",
       "  'job': 'Production Coordinator',\n",
       "  'name': 'Jason Salzman',\n",
       "  'profile_path': None},\n",
       " {'credit_id': '5677e98492514179d2008cd9',\n",
       "  'department': 'Costume & Make-Up',\n",
       "  'gender': 0,\n",
       "  'id': 1422996,\n",
       "  'job': 'Costume Design',\n",
       "  'name': 'Carol Cutshall',\n",
       "  'profile_path': None},\n",
       " {'credit_id': '5677e9d5c3a368168e009414',\n",
       "  'department': 'Art',\n",
       "  'gender': 2,\n",
       "  'id': 500199,\n",
       "  'job': 'Set Decoration',\n",
       "  'name': 'Tim Cohn',\n",
       "  'profile_path': None},\n",
       " {'credit_id': '5677f89d9251417845001a61',\n",
       "  'department': 'Costume & Make-Up',\n",
       "  'gender': 0,\n",
       "  'id': 1527917,\n",
       "  'job': 'Hair Department Head',\n",
       "  'name': 'Voni Hinkle',\n",
       "  'profile_path': None},\n",
       " {'credit_id': '5677f8b392514179dd0089fb',\n",
       "  'department': 'Costume & Make-Up',\n",
       "  'gender': 0,\n",
       "  'id': 1431554,\n",
       "  'job': 'Makeup Department Head',\n",
       "  'name': 'Remi Savva',\n",
       "  'profile_path': None},\n",
       " {'credit_id': '5677f8d1c3a3681689008a4b',\n",
       "  'department': 'Art',\n",
       "  'gender': 0,\n",
       "  'id': 66495,\n",
       "  'job': 'Art Direction',\n",
       "  'name': 'Jason Baldwin Stewart',\n",
       "  'profile_path': None},\n",
       " {'credit_id': '5677f8eec3a3681685008dd5',\n",
       "  'department': 'Production',\n",
       "  'gender': 0,\n",
       "  'id': 1412466,\n",
       "  'job': 'Production Supervisor',\n",
       "  'name': 'Korey Budd',\n",
       "  'profile_path': None},\n",
       " {'credit_id': '5677f90a9251417845001a7d',\n",
       "  'department': 'Sound',\n",
       "  'gender': 0,\n",
       "  'id': 1401562,\n",
       "  'job': 'Sound Re-Recording Mixer',\n",
       "  'name': 'Gary C. Bourgeois',\n",
       "  'profile_path': None},\n",
       " {'credit_id': '5677f91e9251417845001a84',\n",
       "  'department': 'Sound',\n",
       "  'gender': 0,\n",
       "  'id': 1396794,\n",
       "  'job': 'Sound Re-Recording Mixer',\n",
       "  'name': 'Gabriel J. Serrano',\n",
       "  'profile_path': None},\n",
       " {'credit_id': '5677f938c3a3681680008dd4',\n",
       "  'department': 'Editing',\n",
       "  'gender': 0,\n",
       "  'id': 13168,\n",
       "  'job': 'Dialogue Editor',\n",
       "  'name': 'Victoria Rose Sampson',\n",
       "  'profile_path': None},\n",
       " {'credit_id': '5677f94e92514179dd008a1f',\n",
       "  'department': 'Sound',\n",
       "  'gender': 0,\n",
       "  'id': 1551839,\n",
       "  'job': 'Production Sound Mixer',\n",
       "  'name': 'Michael B. Koff',\n",
       "  'profile_path': None},\n",
       " {'credit_id': '5677f968c3a368168e009698',\n",
       "  'department': 'Sound',\n",
       "  'gender': 0,\n",
       "  'id': 113052,\n",
       "  'job': 'Sound Effects Editor',\n",
       "  'name': 'Randall Guth',\n",
       "  'profile_path': None},\n",
       " {'credit_id': '5677f98dc3a3681685008e02',\n",
       "  'department': 'Crew',\n",
       "  'gender': 2,\n",
       "  'id': 1442535,\n",
       "  'job': 'Stunt Coordinator',\n",
       "  'name': 'Chuck Picerni Jr.',\n",
       "  'profile_path': '/yE5QtXUzcrnCzMRctZL8F5g842B.jpg'},\n",
       " {'credit_id': '5677f9a692514179dd008a49',\n",
       "  'department': 'Camera',\n",
       "  'gender': 0,\n",
       "  'id': 1437305,\n",
       "  'job': 'Camera Operator',\n",
       "  'name': 'Michael Applebaum',\n",
       "  'profile_path': None},\n",
       " {'credit_id': '5677f9bd9251417845001aae',\n",
       "  'department': 'Camera',\n",
       "  'gender': 0,\n",
       "  'id': 1401765,\n",
       "  'job': 'Still Photographer',\n",
       "  'name': 'Steve Dietl',\n",
       "  'profile_path': None},\n",
       " {'credit_id': '5677f9e592514179e7008bf7',\n",
       "  'department': 'Lighting',\n",
       "  'gender': 0,\n",
       "  'id': 1402721,\n",
       "  'job': 'Rigging Gaffer',\n",
       "  'name': 'Tarik Naim Alherimi',\n",
       "  'profile_path': None},\n",
       " {'credit_id': '5677f9f4c3a368167c0090ed',\n",
       "  'department': 'Lighting',\n",
       "  'gender': 0,\n",
       "  'id': 1402719,\n",
       "  'job': 'Gaffer',\n",
       "  'name': 'Paul Olinde',\n",
       "  'profile_path': None},\n",
       " {'credit_id': '5677fa21c3a368168e0096ca',\n",
       "  'department': 'Sound',\n",
       "  'gender': 0,\n",
       "  'id': 1551840,\n",
       "  'job': 'Music Supervisor',\n",
       "  'name': 'Steve Griffen',\n",
       "  'profile_path': None},\n",
       " {'credit_id': '5677fa31c3a3681680008e04',\n",
       "  'department': 'Sound',\n",
       "  'gender': 0,\n",
       "  'id': 1551841,\n",
       "  'job': 'Music Editor',\n",
       "  'name': 'Matt Fausak',\n",
       "  'profile_path': None},\n",
       " {'credit_id': '5677fa4392514179dd008a76',\n",
       "  'department': 'Sound',\n",
       "  'gender': 0,\n",
       "  'id': 1551840,\n",
       "  'job': 'Music Editor',\n",
       "  'name': 'Steve Griffen',\n",
       "  'profile_path': None},\n",
       " {'credit_id': '5677fa609251417845001acf',\n",
       "  'department': 'Costume & Make-Up',\n",
       "  'gender': 0,\n",
       "  'id': 1403416,\n",
       "  'job': 'Costume Supervisor',\n",
       "  'name': 'Shonta T. McCray',\n",
       "  'profile_path': None},\n",
       " {'credit_id': '5677fa8492514179d2008fb3',\n",
       "  'department': 'Camera',\n",
       "  'gender': 0,\n",
       "  'id': 1425831,\n",
       "  'job': 'Steadicam Operator',\n",
       "  'name': 'Mark Karavite',\n",
       "  'profile_path': None},\n",
       " {'credit_id': '5677fab2c3a3681689008ac3',\n",
       "  'department': 'Camera',\n",
       "  'gender': 0,\n",
       "  'id': 1551842,\n",
       "  'job': 'First Assistant Camera',\n",
       "  'name': 'Joe Waistell',\n",
       "  'profile_path': None},\n",
       " {'credit_id': '5677faecc3a368168e0096fe',\n",
       "  'department': 'Sound',\n",
       "  'gender': 0,\n",
       "  'id': 58362,\n",
       "  'job': 'Supervising Sound Editor',\n",
       "  'name': 'Michael Hilkene',\n",
       "  'profile_path': None},\n",
       " {'credit_id': '59ac0368c3a3682c0a02c484',\n",
       "  'department': 'Crew',\n",
       "  'gender': 0,\n",
       "  'id': 1881584,\n",
       "  'job': 'Additional Writing',\n",
       "  'name': 'John Karnay',\n",
       "  'profile_path': None},\n",
       " {'credit_id': '59ac0411c3a3682bf0028966',\n",
       "  'department': 'Costume & Make-Up',\n",
       "  'gender': 0,\n",
       "  'id': 1431552,\n",
       "  'job': 'Hairstylist',\n",
       "  'name': 'Daina Daigle',\n",
       "  'profile_path': None},\n",
       " {'credit_id': '59ac0504925141072302b8fb',\n",
       "  'department': 'Costume & Make-Up',\n",
       "  'gender': 0,\n",
       "  'id': 1712001,\n",
       "  'job': 'Makeup Artist',\n",
       "  'name': 'Allison Gordin',\n",
       "  'profile_path': None},\n",
       " {'credit_id': '59ac0570c3a3682bf0028aac',\n",
       "  'department': 'Costume & Make-Up',\n",
       "  'gender': 0,\n",
       "  'id': 578725,\n",
       "  'job': 'Makeup Artist',\n",
       "  'name': 'Darryl Lucas',\n",
       "  'profile_path': None},\n",
       " {'credit_id': '59ac05a4925141077e02c97e',\n",
       "  'department': 'Costume & Make-Up',\n",
       "  'gender': 0,\n",
       "  'id': 1463274,\n",
       "  'job': 'Makeup Artist',\n",
       "  'name': 'Annabelle MacNeal',\n",
       "  'profile_path': None},\n",
       " {'credit_id': '59ac05c6925141076502d106',\n",
       "  'department': 'Costume & Make-Up',\n",
       "  'gender': 0,\n",
       "  'id': 1881586,\n",
       "  'job': 'Makeup Artist',\n",
       "  'name': 'Marina Savva',\n",
       "  'profile_path': None},\n",
       " {'credit_id': '59ac0615c3a3682c480296aa',\n",
       "  'department': 'Costume & Make-Up',\n",
       "  'gender': 0,\n",
       "  'id': 1406267,\n",
       "  'job': 'Hairstylist',\n",
       "  'name': 'Carl G. Variste',\n",
       "  'profile_path': None},\n",
       " {'credit_id': '59ac06ba925141076502d1fa',\n",
       "  'department': 'Directing',\n",
       "  'gender': 0,\n",
       "  'id': 1798593,\n",
       "  'job': 'First Assistant Director',\n",
       "  'name': 'Josh King',\n",
       "  'profile_path': None},\n",
       " {'credit_id': '59ac06f1c3a3682c2202aca0',\n",
       "  'department': 'Art',\n",
       "  'gender': 0,\n",
       "  'id': 1415083,\n",
       "  'job': 'Greensman',\n",
       "  'name': 'Scott C. Bivona',\n",
       "  'profile_path': None},\n",
       " {'credit_id': '59ac072c925141076502d260',\n",
       "  'department': 'Art',\n",
       "  'gender': 0,\n",
       "  'id': 1881587,\n",
       "  'job': 'Title Designer',\n",
       "  'name': 'Eunha Choi',\n",
       "  'profile_path': None},\n",
       " {'credit_id': '59ac077c925141077e02cb62',\n",
       "  'department': 'Art',\n",
       "  'gender': 0,\n",
       "  'id': 1585302,\n",
       "  'job': 'Construction Coordinator',\n",
       "  'name': 'Daniel Coe',\n",
       "  'profile_path': None},\n",
       " {'credit_id': '59ac07e0925141078a02d842',\n",
       "  'department': 'Art',\n",
       "  'gender': 0,\n",
       "  'id': 1495523,\n",
       "  'job': 'Set Designer',\n",
       "  'name': 'Spencer Davison',\n",
       "  'profile_path': None},\n",
       " {'credit_id': '59ac0862925141072f02cf6f',\n",
       "  'department': 'Art',\n",
       "  'gender': 0,\n",
       "  'id': 1881589,\n",
       "  'job': 'Painter',\n",
       "  'name': 'Sonia L. Garcia',\n",
       "  'profile_path': None},\n",
       " {'credit_id': '59ac08e0c3a3682bf0028e51',\n",
       "  'department': 'Art',\n",
       "  'gender': 0,\n",
       "  'id': 1424896,\n",
       "  'job': 'Art Department Coordinator',\n",
       "  'name': 'Caleb Guillotte',\n",
       "  'profile_path': None},\n",
       " {'credit_id': '59ac0920c3a3682c2202af36',\n",
       "  'department': 'Art',\n",
       "  'gender': 0,\n",
       "  'id': 1393375,\n",
       "  'job': 'Leadman',\n",
       "  'name': \"Pat A. O'Connor\",\n",
       "  'profile_path': None},\n",
       " {'credit_id': '59ac095592514107af02cc39',\n",
       "  'department': 'Art',\n",
       "  'gender': 0,\n",
       "  'id': 1881592,\n",
       "  'job': 'Set Designer',\n",
       "  'name': 'Brendan Turrill',\n",
       "  'profile_path': None},\n",
       " {'credit_id': '59ac0989925141072302bdfa',\n",
       "  'department': 'Art',\n",
       "  'gender': 2,\n",
       "  'id': 76497,\n",
       "  'job': 'Property Master',\n",
       "  'name': 'Brook Yeaton',\n",
       "  'profile_path': None},\n",
       " {'credit_id': '59ac0a2cc3a3682c9c02add1',\n",
       "  'department': 'Sound',\n",
       "  'gender': 0,\n",
       "  'id': 1881596,\n",
       "  'job': 'Boom Operator',\n",
       "  'name': 'Matthew Armstrong',\n",
       "  'profile_path': None},\n",
       " {'credit_id': '59ac0aa8925141072f02d282',\n",
       "  'department': 'Visual Effects',\n",
       "  'gender': 2,\n",
       "  'id': 1558086,\n",
       "  'job': 'Special Effects Supervisor',\n",
       "  'name': 'Matt Kutcher',\n",
       "  'profile_path': None},\n",
       " {'credit_id': '59ac0b2ac3a3682c2202b192',\n",
       "  'department': 'Crew',\n",
       "  'gender': 2,\n",
       "  'id': 1558087,\n",
       "  'job': 'Special Effects Coordinator',\n",
       "  'name': 'Eric Roberts',\n",
       "  'profile_path': None},\n",
       " {'credit_id': '59ac0b7ac3a3682c2202b1fb',\n",
       "  'department': 'Visual Effects',\n",
       "  'gender': 0,\n",
       "  'id': 1392098,\n",
       "  'job': 'Visual Effects Supervisor',\n",
       "  'name': 'Rocco Passionino',\n",
       "  'profile_path': None},\n",
       " {'credit_id': '59ac0bbe925141077e02d0c4',\n",
       "  'department': 'Visual Effects',\n",
       "  'gender': 0,\n",
       "  'id': 1558716,\n",
       "  'job': 'Visual Effects Coordinator',\n",
       "  'name': 'Joseph Payo',\n",
       "  'profile_path': None},\n",
       " {'credit_id': '59ac0bf2c3a3682cc802cefa',\n",
       "  'department': 'Visual Effects',\n",
       "  'gender': 0,\n",
       "  'id': 1408784,\n",
       "  'job': 'Visual Effects Producer',\n",
       "  'name': 'Chris Roff',\n",
       "  'profile_path': None},\n",
       " {'credit_id': '59ac0c51c3a3682c48029d99',\n",
       "  'department': 'Lighting',\n",
       "  'gender': 0,\n",
       "  'id': 1881600,\n",
       "  'job': 'Best Boy Electric',\n",
       "  'name': 'Ulyan Atamanyuk',\n",
       "  'profile_path': None},\n",
       " {'credit_id': '59ac0cbac3a3682c0a02cff6',\n",
       "  'department': 'Camera',\n",
       "  'gender': 0,\n",
       "  'id': 1881602,\n",
       "  'job': 'Key Grip',\n",
       "  'name': 'Chris Ekstrom',\n",
       "  'profile_path': None},\n",
       " {'credit_id': '59ac0d54925141072f02d5e6',\n",
       "  'department': 'Lighting',\n",
       "  'gender': 0,\n",
       "  'id': 1484984,\n",
       "  'job': 'Best Boy Electric',\n",
       "  'name': 'Brad Garris',\n",
       "  'profile_path': None},\n",
       " {'credit_id': '59ac0db0925141078a02df86',\n",
       "  'department': 'Camera',\n",
       "  'gender': 0,\n",
       "  'id': 1881603,\n",
       "  'job': 'Dolly Grip',\n",
       "  'name': 'Kendell Joseph',\n",
       "  'profile_path': None},\n",
       " {'credit_id': '59ac0e5a925141077e02d39f',\n",
       "  'department': 'Camera',\n",
       "  'gender': 0,\n",
       "  'id': 1549179,\n",
       "  'job': 'Dolly Grip',\n",
       "  'name': 'Spencer Wilcox',\n",
       "  'profile_path': None},\n",
       " {'credit_id': '59ac0e9f925141079d02bee6',\n",
       "  'department': 'Costume & Make-Up',\n",
       "  'gender': 0,\n",
       "  'id': 1552626,\n",
       "  'job': 'Key Costumer',\n",
       "  'name': 'Sarah P. Koeppe',\n",
       "  'profile_path': None},\n",
       " {'credit_id': '59ac0ec1c3a3682bf0029524',\n",
       "  'department': 'Costume & Make-Up',\n",
       "  'gender': 0,\n",
       "  'id': 1881605,\n",
       "  'job': 'Seamstress',\n",
       "  'name': 'Catherine Rodi',\n",
       "  'profile_path': None},\n",
       " {'credit_id': '59ac0eef925141070702c7ff',\n",
       "  'department': 'Costume & Make-Up',\n",
       "  'gender': 0,\n",
       "  'id': 1463801,\n",
       "  'job': 'Seamstress',\n",
       "  'name': 'Giselle Spence',\n",
       "  'profile_path': None},\n",
       " {'credit_id': '59ac0f5dc3a3682c4802a0f5',\n",
       "  'department': 'Production',\n",
       "  'gender': 0,\n",
       "  'id': 1400837,\n",
       "  'job': 'Location Manager',\n",
       "  'name': 'John A. Johnston',\n",
       "  'profile_path': None},\n",
       " {'credit_id': '59ac0ff2c3a3682c4802a196',\n",
       "  'department': 'Crew',\n",
       "  'gender': 0,\n",
       "  'id': 1844322,\n",
       "  'job': 'Production Controller',\n",
       "  'name': 'Gail Marks',\n",
       "  'profile_path': None}]"
      ]
     },
     "execution_count": 27,
     "metadata": {},
     "output_type": "execute_result"
    }
   ],
   "source": [
    "ast.literal_eval(train_copy['crew'][0])"
   ]
  },
  {
   "cell_type": "code",
   "execution_count": 28,
   "metadata": {},
   "outputs": [
    {
     "data": {
      "text/plain": [
       "[{'id': 4379, 'name': 'time travel'},\n",
       " {'id': 9663, 'name': 'sequel'},\n",
       " {'id': 11830, 'name': 'hot tub'},\n",
       " {'id': 179431, 'name': 'duringcreditsstinger'}]"
      ]
     },
     "execution_count": 28,
     "metadata": {},
     "output_type": "execute_result"
    }
   ],
   "source": [
    "ast.literal_eval(train_copy['Keywords'][0])"
   ]
  },
  {
   "cell_type": "markdown",
   "metadata": {},
   "source": [
    "All these three columns are lists of dictionaries. That means there's a lot of data in each of them. Just looking at cast alone, there are lots of information for each actor. One could imagine some specific actors increasing the popularity of movies and therefore also revenue.\n",
    "\n",
    "However, we didn't think we would gain much from adding individual columns for actors. Instead we thoguht the size of the cast and the gender-distribution of the cast were more interesting attributes, and thought these maybe had an impact on the revenue.\n",
    "\n",
    "So we made a function that did that on cast:"
   ]
  },
  {
   "cell_type": "code",
   "execution_count": 29,
   "metadata": {},
   "outputs": [],
   "source": [
    "def cast_counter(column):\n",
    "    cast_size = [0] * len(column)\n",
    "    male_cast_size = [0] * len(column)\n",
    "    female_cast_size = [0] * len(column)\n",
    "    uncategorized_cast_size = [0] * len(column)\n",
    "    \n",
    "    i = 0\n",
    "    for cast_list_str in column:\n",
    "        \n",
    "        if cast_list_str == cast_list_str:\n",
    "            cast_list = ast.literal_eval(cast_list_str)\n",
    "            cast_size[i] = len(cast_list)\n",
    "            \n",
    "            for cast in cast_list:\n",
    "                if(cast['gender'] == 1):\n",
    "                    female_cast_size[i] += 1\n",
    "                elif(cast['gender'] == 2):\n",
    "                    male_cast_size[i] += 1\n",
    "                else:\n",
    "                    uncategorized_cast_size[i] += 1\n",
    "            \n",
    "        else:\n",
    "            cast_size[i] = np.nan\n",
    "            female_cast_size[i] = np.nan\n",
    "            male_cast_size[i] = np.nan\n",
    "            uncategorized_cast_size[i] = np.nan\n",
    "        i+=1\n",
    "    \n",
    "    return cast_size, female_cast_size, male_cast_size, uncategorized_cast_size"
   ]
  },
  {
   "cell_type": "code",
   "execution_count": 30,
   "metadata": {},
   "outputs": [],
   "source": [
    "train_copy['cast_size'], train_copy['female_cast_size'], train_copy['male_cast_size'], train_copy['uncategorized_cast_size'] = cast_counter(train_copy['cast'])\n",
    "train_copy = train_copy.drop('cast', axis = 1)\n",
    "\n",
    "test_copy['cast_size'], test_copy['female_cast_size'], test_copy['male_cast_size'], test_copy['uncategorized_cast_size'] = cast_counter(test_copy['cast'])\n",
    "test_copy = test_copy.drop('cast', axis = 1)"
   ]
  },
  {
   "cell_type": "markdown",
   "metadata": {},
   "source": [
    "### Attribute lengths and sizes"
   ]
  },
  {
   "cell_type": "markdown",
   "metadata": {},
   "source": [
    "We also wanted a function that makes a new column with the number of objects in a list from another column. "
   ]
  },
  {
   "cell_type": "code",
   "execution_count": 38,
   "metadata": {},
   "outputs": [],
   "source": [
    "def attribute_counter(column):\n",
    "    attribute_size = [0] * len(column)\n",
    "    \n",
    "    i = 0\n",
    "    for attribute_list_str in column:\n",
    "        \n",
    "        if attribute_list_str == attribute_list_str:\n",
    "            attribute_list = ast.literal_eval(attribute_list_str)\n",
    "            attribute_size[i] = len(attribute_list)           \n",
    "        else:\n",
    "            attribute_size[i] = np.nan\n",
    "        i+=1\n",
    "    \n",
    "    return attribute_size"
   ]
  },
  {
   "cell_type": "code",
   "execution_count": 39,
   "metadata": {},
   "outputs": [],
   "source": [
    "def attribute_length(column, length) :\n",
    "    new_column = [0] * length\n",
    "    \n",
    "    i = 0\n",
    "    for data_attribute in column:\n",
    "        if data_attribute == data_attribute:\n",
    "            new_column[i] = len(data_attribute)\n",
    "        else:\n",
    "            new_column[i] = np.nan\n",
    "        i += 1       \n",
    "        \n",
    "    return new_column        "
   ]
  },
  {
   "cell_type": "markdown",
   "metadata": {},
   "source": [
    "These functions were simple to make, and they might give the algorithm some more usable numbers to work with."
   ]
  },
  {
   "cell_type": "code",
   "execution_count": 40,
   "metadata": {},
   "outputs": [],
   "source": [
    "train_copy['title_length'] = attribute_length(train_copy['title'], 3000)\n",
    "train_copy['tagline_length'] = attribute_length(train_copy['tagline'], 3000)\n",
    "train_copy['crew_size'] = attribute_counter(train_copy['crew'])\n",
    "train_copy['num_keywords'] = attribute_counter(train_copy['Keywords'])\n",
    "\n",
    "test_copy['title_length'] = attribute_length(test_copy['title'], 4398)\n",
    "test_copy['tagline_length'] = attribute_length(test_copy['tagline'], 4398)\n",
    "test_copy['crew_size'] = attribute_counter(test_copy['crew'])\n",
    "test_copy['num_keywords'] = attribute_counter(test_copy['Keywords'])"
   ]
  },
  {
   "cell_type": "markdown",
   "metadata": {},
   "source": [
    "### Genres"
   ]
  },
  {
   "cell_type": "code",
   "execution_count": null,
   "metadata": {},
   "outputs": [],
   "source": [
    "#Get all names for the genres\n",
    "def namesOfGenres(collection):\n",
    "    temp = []\n",
    "    for l in collection:\n",
    "        if l == l:\n",
    "            a = ast.literal_eval(l)\n",
    "            for x in a:\n",
    "                text = {'id': x['id'], 'name': x['name']}\n",
    "                if text not in temp:\n",
    "                    temp.append(text)\n",
    "    return temp\n",
    "    \n",
    "namesR = namesOfGenres(train_copy['genres'])\n",
    "namesE = namesOfGenres(test_copy['genres'])"
   ]
  },
  {
   "cell_type": "code",
   "execution_count": null,
   "metadata": {},
   "outputs": [],
   "source": [
    "#onehot per row\n",
    "\n",
    "def genresToInt(_collection, names_collection):\n",
    "    genres_temp = []\n",
    "    for l in _collection:\n",
    "        res =  [0] * len(names_collection)\n",
    "        \n",
    "        if l == l:\n",
    "            a = ast.literal_eval(l)\n",
    "            for i in range(0, len(names_collection)):\n",
    "                for g in a:\n",
    "                    if g == names_collection[i]:\n",
    "                        res[i] = 1\n",
    "        \n",
    "        genres_temp.append(res)\n",
    "    return genres_temp\n",
    "                        \n",
    "genresR = genresToInt(train_copy['genres'], namesR)\n",
    "genresE = genresToInt(test_copy['genres'], namesE)"
   ]
  },
  {
   "cell_type": "code",
   "execution_count": null,
   "metadata": {
    "scrolled": true
   },
   "outputs": [],
   "source": [
    "#Create colloms\n",
    "\n",
    "def createCollomnDown2D(name, arr, index, data):\n",
    "    newArr = []\n",
    "    for row in arr:\n",
    "        newArr.append(row[index])\n",
    "    \n",
    "    data[name] = newArr\n",
    "\n",
    "def createCollomnDownInCollection(collection, names_collection, genres_collection):\n",
    "    for i in range(0, len(names_collection)):\n",
    "        createCollomnDown2D(\"has_genre_\" + names_collection[i]['name'].replace(\" \", \"_\").lower(), \n",
    "                            genres_collection, \n",
    "                            i, \n",
    "                            collection)\n",
    "        \n",
    "createCollomnDownInCollection(train_copy, namesR, genresR)\n",
    "createCollomnDownInCollection(test_copy, namesE, genresE)\n",
    "\n",
    "train_copy['has_genre_drama']"
   ]
  },
  {
   "cell_type": "code",
   "execution_count": null,
   "metadata": {},
   "outputs": [],
   "source": [
    "train_copy['release_date']"
   ]
  },
  {
   "cell_type": "code",
   "execution_count": null,
   "metadata": {},
   "outputs": [],
   "source": [
    "def release_date_conv(collection, length):\n",
    "    month = []\n",
    "    year = []\n",
    "\n",
    "    for t in collection['release_date']:\n",
    "        if t == t:\n",
    "            split_arr = t.split('/')\n",
    "            month.append(int(split_arr[0]))\n",
    "\n",
    "            yearInt = int(split_arr[2])\n",
    "            if(yearInt < 20):\n",
    "                year.append(2000 + yearInt)\n",
    "            else:\n",
    "                year.append(1900 + yearInt)\n",
    "        else:\n",
    "            #FIX ME\n",
    "            month.append(10)\n",
    "            year.append(2000)\n",
    "        \n",
    "    while len(month) < length:\n",
    "        month.append(0)\n",
    "        year.append(0)\n",
    "    \n",
    "    collection['release_month'] = month\n",
    "    collection['release_year'] = year\n",
    "    \n",
    "    collection = collection.drop(['release_date'], axis=1)\n",
    "        \n",
    "release_date_conv(train_copy, 3000)\n",
    "release_date_conv(test_copy, 4398)"
   ]
  },
  {
   "cell_type": "code",
   "execution_count": null,
   "metadata": {},
   "outputs": [],
   "source": [
    "train_copy.plot(kind=\"scatter\", x=\"release_year\", y=\"popularity\", alpha=0.2)\n",
    "plt.xlim(1980, 2020)"
   ]
  },
  {
   "cell_type": "code",
   "execution_count": null,
   "metadata": {},
   "outputs": [],
   "source": [
    "\n",
    "\n",
    "# remove old genre collomn\n",
    "train_copy = train_copy.drop(['release_date'], axis=1)\n",
    "train_copy = train_copy.drop(['genres'], axis=1)\n",
    "train_copy = train_copy.drop(['imdb_id'], axis=1)\n",
    "train_copy = train_copy.drop(['original_language'], axis=1)\n",
    "train_copy = train_copy.drop(['poster_path'], axis=1)\n",
    "train_copy = train_copy.drop(['has_genre_tv_movie'], axis=1)\n",
    "\n",
    "test_copy = test_copy.drop(['release_date'], axis=1)\n",
    "test_copy = test_copy.drop(['genres'], axis=1)\n",
    "test_copy = test_copy.drop(['imdb_id'], axis=1)\n",
    "test_copy = test_copy.drop(['original_language'], axis=1)\n",
    "test_copy = test_copy.drop(['poster_path'], axis=1)"
   ]
  },
  {
   "cell_type": "code",
   "execution_count": null,
   "metadata": {},
   "outputs": [],
   "source": [
    "def runtime_onehot(collection, length):\n",
    "    newRuntimes = []\n",
    "    for x in train_copy['runtime']:\n",
    "        if x == x:\n",
    "            newRuntimes.append(int(x))\n",
    "        else:\n",
    "            newRuntimes.append(0)\n",
    "    \n",
    "    while len(newRuntimes) < length:\n",
    "        newRuntimes.append(0)\n",
    "\n",
    "    collection['runtime'] = newRuntimes"
   ]
  },
  {
   "cell_type": "code",
   "execution_count": null,
   "metadata": {},
   "outputs": [],
   "source": [
    "runtime_onehot(train_copy, 3000)\n",
    "runtime_onehot(test_copy, 4398)"
   ]
  },
  {
   "cell_type": "code",
   "execution_count": null,
   "metadata": {},
   "outputs": [],
   "source": [
    "def status_one_hot(collection):\n",
    "    statusOnehot = []\n",
    "    for movie in collection['status']:\n",
    "        if movie is \"Released\":\n",
    "            statusOnehot.append(1)\n",
    "        else:\n",
    "            statusOnehot.append(0)\n",
    "    return statusOnehot"
   ]
  },
  {
   "cell_type": "code",
   "execution_count": null,
   "metadata": {},
   "outputs": [],
   "source": [
    "train_copy['status'] = status_one_hot(train_copy)\n",
    "test_copy['status'] = status_one_hot(test_copy)"
   ]
  },
  {
   "cell_type": "code",
   "execution_count": null,
   "metadata": {},
   "outputs": [],
   "source": []
  },
  {
   "cell_type": "code",
   "execution_count": null,
   "metadata": {},
   "outputs": [],
   "source": [
    "train_copy = train_copy.drop(['overview'], axis=1)\n",
    "train_copy = train_copy.drop(['production_countries'], axis=1)\n",
    "train_copy = train_copy.drop(['tagline'], axis=1)\n",
    "train_copy = train_copy.drop(['title'], axis=1)\n",
    "train_copy = train_copy.drop(['Keywords'], axis=1)\n",
    "train_copy = train_copy.drop(['crew'], axis=1)\n",
    "train_copy = train_copy.drop(['original_title'], axis=1)\n",
    "train_copy = train_copy.drop(['production_companies'], axis=1)\n",
    "\n",
    "test_copy = test_copy.drop(['overview'], axis=1)\n",
    "test_copy = test_copy.drop(['production_countries'], axis=1)\n",
    "test_copy = test_copy.drop(['tagline'], axis=1)\n",
    "test_copy = test_copy.drop(['title'], axis=1)\n",
    "test_copy = test_copy.drop(['Keywords'], axis=1)\n",
    "test_copy = test_copy.drop(['crew'], axis=1)\n",
    "test_copy = test_copy.drop(['original_title'], axis=1)\n",
    "test_copy = test_copy.drop(['production_companies'], axis=1)"
   ]
  },
  {
   "cell_type": "code",
   "execution_count": null,
   "metadata": {},
   "outputs": [],
   "source": [
    "train_copy = train_copy.fillna(train_copy.median())\n",
    "test_copy = test_copy.fillna(train_copy.median())"
   ]
  },
  {
   "cell_type": "code",
   "execution_count": null,
   "metadata": {
    "scrolled": true
   },
   "outputs": [],
   "source": [
    "train_copy.info()"
   ]
  },
  {
   "cell_type": "code",
   "execution_count": null,
   "metadata": {},
   "outputs": [],
   "source": [
    "test_copy.info()"
   ]
  },
  {
   "cell_type": "code",
   "execution_count": null,
   "metadata": {
    "scrolled": true
   },
   "outputs": [],
   "source": [
    "corr_matrix = train_copy.corr()\n",
    "corr_matrix[\"revenue\"].sort_values(ascending=False)"
   ]
  },
  {
   "cell_type": "code",
   "execution_count": null,
   "metadata": {},
   "outputs": [],
   "source": [
    "revenues = train['revenue'].copy()\n",
    "train_copy_no_rev = train_copy.drop(['revenue'], axis=1)"
   ]
  },
  {
   "cell_type": "markdown",
   "metadata": {},
   "source": [
    "## Transformation stuff"
   ]
  },
  {
   "cell_type": "code",
   "execution_count": null,
   "metadata": {},
   "outputs": [],
   "source": [
    "imputer = SimpleImputer(strategy=\"median\")\n",
    "imputer.fit(train_copy_no_rev)"
   ]
  },
  {
   "cell_type": "code",
   "execution_count": null,
   "metadata": {
    "scrolled": true
   },
   "outputs": [],
   "source": [
    "imputer.statistics_"
   ]
  },
  {
   "cell_type": "code",
   "execution_count": null,
   "metadata": {},
   "outputs": [],
   "source": [
    "num_pipeline = Pipeline([\n",
    "        ('imputer', SimpleImputer(strategy=\"median\")),\n",
    "        ('std_scaler', StandardScaler()),\n",
    "    ])\n",
    "\n",
    "train_copy_tr = num_pipeline.fit_transform(train_copy_no_rev)"
   ]
  },
  {
   "cell_type": "code",
   "execution_count": null,
   "metadata": {},
   "outputs": [],
   "source": [
    "class DataFrameSelector(BaseEstimator, TransformerMixin):\n",
    "    def __init__(self, attribute_names):\n",
    "        self.attribute_names = attribute_names\n",
    "    def fit(self, X, y=None):\n",
    "        return self\n",
    "    def transform(self, X):\n",
    "        return X[self.attribute_names].values"
   ]
  },
  {
   "cell_type": "code",
   "execution_count": null,
   "metadata": {},
   "outputs": [],
   "source": [
    "num_pipeline = Pipeline([\n",
    "        ('imputer', SimpleImputer(strategy=\"median\")),\n",
    "        ('std_scaler', StandardScaler()),\n",
    "    ])\n",
    "\n",
    "full_pipeline = FeatureUnion(transformer_list=[\n",
    "        (\"num_pipeline\", num_pipeline),\n",
    "    ])"
   ]
  },
  {
   "cell_type": "code",
   "execution_count": null,
   "metadata": {
    "scrolled": true
   },
   "outputs": [],
   "source": [
    "train_prepared = full_pipeline.fit_transform(train_copy_no_rev)\n",
    "train_prepared[3]"
   ]
  },
  {
   "cell_type": "markdown",
   "metadata": {},
   "source": [
    "## Selecting and train a model"
   ]
  },
  {
   "cell_type": "code",
   "execution_count": null,
   "metadata": {},
   "outputs": [],
   "source": [
    "train_no_revenue = train_copy_no_rev.copy()"
   ]
  },
  {
   "cell_type": "code",
   "execution_count": null,
   "metadata": {
    "scrolled": true
   },
   "outputs": [],
   "source": [
    "tree_reg = DecisionTreeRegressor()\n",
    "tree_reg.fit(train_prepared, train_copy)"
   ]
  },
  {
   "cell_type": "code",
   "execution_count": null,
   "metadata": {},
   "outputs": [],
   "source": [
    "scores = cross_val_score(tree_reg, train_prepared, train_copy, \n",
    "                         scoring=\"neg_mean_squared_log_error\", cv=10)\n",
    "tree_rmse_scores = np.sqrt(-scores)"
   ]
  },
  {
   "cell_type": "code",
   "execution_count": null,
   "metadata": {
    "scrolled": false
   },
   "outputs": [],
   "source": [
    "def display_scores(scores):\n",
    "    print(\"Scores:\", scores)\n",
    "    print(\"Mean:\", scores.mean())\n",
    "    print(\"Standard deviation:\", scores.std())\n",
    "\n",
    "display_scores(tree_rmse_scores)"
   ]
  },
  {
   "cell_type": "code",
   "execution_count": null,
   "metadata": {
    "scrolled": false
   },
   "outputs": [],
   "source": [
    "forest_reg = RandomForestRegressor()\n",
    "forest_reg.fit(train_prepared, train_copy)\n",
    "train_predictions = forest_reg.predict(train_prepared)\n",
    "forest_mse = mean_squared_error(train_copy, train_predictions)\n",
    "forest_rmse = np.sqrt(forest_mse)\n",
    "\n",
    "forest_rmse"
   ]
  },
  {
   "cell_type": "code",
   "execution_count": null,
   "metadata": {},
   "outputs": [],
   "source": [
    "forest_scores = cross_val_score(forest_reg, train_prepared, train_copy,\n",
    "                             scoring=\"neg_mean_squared_log_error\", cv=10)\n",
    "\n",
    "forest_rmse_scores = np.sqrt(-forest_scores)\n",
    "\n",
    "display_scores(forest_rmse_scores)"
   ]
  },
  {
   "cell_type": "code",
   "execution_count": null,
   "metadata": {},
   "outputs": [],
   "source": [
    "param_distribs = {\n",
    "        'n_estimators': randint(low=30, high=36),\n",
    "        'max_features': randint(low=4, high=35),\n",
    "}\n",
    "\n",
    "rnd_search = RandomizedSearchCV(forest_reg, param_distributions=param_distribs,\n",
    "                                n_iter=25, cv=5, scoring='neg_mean_squared_error', random_state=42)\n",
    "rnd_search.fit(train_no_revenue, revenues)"
   ]
  },
  {
   "cell_type": "code",
   "execution_count": null,
   "metadata": {},
   "outputs": [],
   "source": [
    "cvres = rnd_search.cv_results_\n",
    "for mean_score, params in zip(cvres[\"mean_test_score\"], cvres[\"params\"]):\n",
    "    print(np.sqrt(-mean_score), params)"
   ]
  },
  {
   "cell_type": "code",
   "execution_count": null,
   "metadata": {},
   "outputs": [],
   "source": [
    "rnd_search.best_estimator_"
   ]
  },
  {
   "cell_type": "code",
   "execution_count": null,
   "metadata": {},
   "outputs": [],
   "source": [
    "final_model = RandomForestRegressor(bootstrap=True, criterion='mse', max_depth=None,\n",
    "                      max_features=11, max_leaf_nodes=None,\n",
    "                      min_impurity_decrease=0.0, min_impurity_split=None,\n",
    "                      min_samples_leaf=1, min_samples_split=2,\n",
    "                      min_weight_fraction_leaf=0.0, n_estimators=300,\n",
    "                      n_jobs=None, oob_score=False, random_state=None,\n",
    "                      verbose=0, warm_start=False)"
   ]
  },
  {
   "cell_type": "code",
   "execution_count": null,
   "metadata": {},
   "outputs": [],
   "source": [
    "final_model.fit(train_no_revenue, revenues)\n"
   ]
  },
  {
   "cell_type": "code",
   "execution_count": null,
   "metadata": {},
   "outputs": [],
   "source": [
    "train_copy.info()"
   ]
  },
  {
   "cell_type": "code",
   "execution_count": null,
   "metadata": {},
   "outputs": [],
   "source": [
    "forest_rmse_scores"
   ]
  },
  {
   "cell_type": "markdown",
   "metadata": {},
   "source": [
    "## Evaluating system on test set"
   ]
  },
  {
   "cell_type": "code",
   "execution_count": null,
   "metadata": {},
   "outputs": [],
   "source": [
    "test_copy.head()"
   ]
  },
  {
   "cell_type": "code",
   "execution_count": null,
   "metadata": {},
   "outputs": [],
   "source": [
    "train_copy.shape"
   ]
  },
  {
   "cell_type": "code",
   "execution_count": null,
   "metadata": {
    "scrolled": true
   },
   "outputs": [],
   "source": [
    "X_test = test_copy\n",
    "\n",
    "X_test_prepared = full_pipeline.transform(X_test)\n",
    "\n",
    "final_predictions = final_model.predict(X_test_prepared)"
   ]
  },
  {
   "cell_type": "code",
   "execution_count": null,
   "metadata": {
    "scrolled": true
   },
   "outputs": [],
   "source": [
    "subm = pd.DataFrame({'id': test.id, 'revenue': final_predictions})"
   ]
  },
  {
   "cell_type": "code",
   "execution_count": null,
   "metadata": {
    "scrolled": true
   },
   "outputs": [],
   "source": [
    "pd.DataFrame(subm).to_csv(\"thirdTestSubmissionRFG.csv\", index=False)"
   ]
  },
  {
   "cell_type": "markdown",
   "metadata": {},
   "source": [
    "### XGBoost (not implemented)"
   ]
  },
  {
   "cell_type": "code",
   "execution_count": null,
   "metadata": {},
   "outputs": [],
   "source": [
    "?train_test_split"
   ]
  },
  {
   "cell_type": "code",
   "execution_count": null,
   "metadata": {},
   "outputs": [],
   "source": [
    "X = train_copy.drop(['revenue'], axis = 1)\n",
    "y = train_copy.revenue.apply(np.log1p)\n",
    "X_train, X_test, y_train, y_test = train_test_split(X, y, test_size=0.2, random_state=12, shuffle=True)"
   ]
  },
  {
   "cell_type": "code",
   "execution_count": null,
   "metadata": {},
   "outputs": [],
   "source": [
    "params = {'objective': 'reg:linear', \n",
    "          'eta': 0.01, \n",
    "          'max_depth': 6, \n",
    "          'min_child_weight': 3,\n",
    "          'subsample': 0.8,\n",
    "          'colsample_bytree': 0.8,\n",
    "          'colsample_bylevel': 0.50, \n",
    "          'gamma': 1.45, \n",
    "          'eval_metric': 'rmse', \n",
    "          'seed': 12, \n",
    "          'silent': True    \n",
    "}"
   ]
  },
  {
   "cell_type": "code",
   "execution_count": null,
   "metadata": {},
   "outputs": [],
   "source": [
    "xgb_data = [(xgb.DMatrix(X_train, y_train), 'train'), (xgb.DMatrix(X_test, y_test), 'valid')]"
   ]
  },
  {
   "cell_type": "code",
   "execution_count": null,
   "metadata": {
    "scrolled": true
   },
   "outputs": [],
   "source": [
    "print('Starting training...')\n",
    "# train\n",
    "xgb_model = xgb.train(params, \n",
    "                  xgb.DMatrix(X_train, y_train),\n",
    "                  5000,  \n",
    "                  xgb_data, \n",
    "                  verbose_eval=200,\n",
    "                  early_stopping_rounds=200)\n",
    "print('Done:)')"
   ]
  },
  {
   "cell_type": "code",
   "execution_count": null,
   "metadata": {},
   "outputs": [],
   "source": [
    "xgb_model_full = xgb.XGBRegressor(objective  = 'reg:linear', \n",
    "          eta = 0.01, \n",
    "          max_depth = 6,\n",
    "          min_child_weight = 3,\n",
    "          subsample = 0.8, \n",
    "          colsample_bytree = 0.8,\n",
    "          colsample_bylevel = 0.50, \n",
    "          gamma = 1.45, \n",
    "          eval_metric = 'rmse',\n",
    "          seed = 12, n_estimators = 2000)"
   ]
  },
  {
   "cell_type": "code",
   "execution_count": null,
   "metadata": {
    "scrolled": true
   },
   "outputs": [],
   "source": [
    "xgb_model_full.fit (X.values, y)"
   ]
  },
  {
   "cell_type": "code",
   "execution_count": null,
   "metadata": {},
   "outputs": [],
   "source": [
    "X_test = test_copy\n",
    "xgb_pred = np.expm1(xgb_model.predict(xgb.DMatrix(X_test), ntree_limit=xgb_model.best_ntree_limit))\n",
    "pd.DataFrame({'id': test_data.id, 'revenue': xgb_pred}).to_csv('xgbsubmission.csv', index=False)"
   ]
  },
  {
   "cell_type": "markdown",
   "metadata": {},
   "source": [
    "##### TODO list:\n",
    " - [ ] Skrive mer om exploring of data og \n",
    " - [ ] ukedag-attributt(?) \n",
    " - [x] size of cast\n",
    " - [x] gender of main character\n",
    " - [x] length of title\n",
    " - [x] num of keywords\n",
    " - [x] size of crew\n",
    " - [ ] attributter for kjente skuespillere,  attributter som bruker crew (?) f.eks. navn på regissør, antall exec. producers eller has_set_designer (?),  eller attributt som sier noe om production company (?)\n",
    " - [x] fiks alle kolonner som mangler data (fyll med medianverdier?)\n",
    " - [x] **fiks alle budget-verdier som er 0. (Kanskje gjør dem til median?)** (dette hjalp ikke)\n",
    " - [ ] Prøve Light Gradient Boosting Machine eller XGBoost istedenfor RandomForest"
   ]
  },
  {
   "cell_type": "code",
   "execution_count": null,
   "metadata": {},
   "outputs": [],
   "source": []
  }
 ],
 "metadata": {
  "kernelspec": {
   "display_name": "Python 3",
   "language": "python",
   "name": "python3"
  },
  "language_info": {
   "codemirror_mode": {
    "name": "ipython",
    "version": 3
   },
   "file_extension": ".py",
   "mimetype": "text/x-python",
   "name": "python",
   "nbconvert_exporter": "python",
   "pygments_lexer": "ipython3",
   "version": "3.7.3"
  }
 },
 "nbformat": 4,
 "nbformat_minor": 2
}
